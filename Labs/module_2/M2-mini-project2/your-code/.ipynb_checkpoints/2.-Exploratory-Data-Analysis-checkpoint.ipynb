{
 "cells": [
  {
   "cell_type": "markdown",
   "metadata": {},
   "source": [
    "# Inferential statistics\n",
    "## Part II - Exploratory Data Analysis\n",
    "\n",
    "Before starting the actual analysis it's a good idea to explore the data that we will be using, to give yourself a first idea of the questions you will be able to answer with your data, the bias you could have, other data you could need, etc.\n",
    "\n",
    "### Libraries\n",
    "In addition to pandas we will also import matplolib and seaborn so that we will able to plot our data to better understand it."
   ]
  },
  {
   "cell_type": "code",
   "execution_count": 2,
   "metadata": {},
   "outputs": [],
   "source": [
    "import pandas as pd\n",
    "import matplotlib.pyplot as plt\n",
    "import seaborn as sns\n",
    "pd.set_option('max_columns', 100)"
   ]
  },
  {
   "cell_type": "markdown",
   "metadata": {},
   "source": [
    "### Explore the dataset\n",
    "\n",
    "Let's load the cleaned dataset first. Import it with the name `wnba` and show the head."
   ]
  },
  {
   "cell_type": "code",
   "execution_count": 3,
   "metadata": {},
   "outputs": [],
   "source": [
    "#your code here\n",
    "path_data = r\"C:\\Users\\jeanb\\Desktop\\Cours\\Cours Ironhack\\0323_2020DATAPAR\\Labs\\module_2\\M2-mini-project2\\data\"\n",
    "wnba = pd.read_csv(path_data+\"/wnba_clean.csv\")"
   ]
  },
  {
   "cell_type": "markdown",
   "metadata": {},
   "source": [
    "**Use describe() to take an initial look at the data.**"
   ]
  },
  {
   "cell_type": "code",
   "execution_count": 5,
   "metadata": {},
   "outputs": [
    {
     "data": {
      "text/html": [
       "<div>\n",
       "<style scoped>\n",
       "    .dataframe tbody tr th:only-of-type {\n",
       "        vertical-align: middle;\n",
       "    }\n",
       "\n",
       "    .dataframe tbody tr th {\n",
       "        vertical-align: top;\n",
       "    }\n",
       "\n",
       "    .dataframe thead th {\n",
       "        text-align: right;\n",
       "    }\n",
       "</style>\n",
       "<table border=\"1\" class=\"dataframe\">\n",
       "  <thead>\n",
       "    <tr style=\"text-align: right;\">\n",
       "      <th></th>\n",
       "      <th>count</th>\n",
       "      <th>mean</th>\n",
       "      <th>std</th>\n",
       "      <th>min</th>\n",
       "      <th>25%</th>\n",
       "      <th>50%</th>\n",
       "      <th>75%</th>\n",
       "      <th>max</th>\n",
       "    </tr>\n",
       "  </thead>\n",
       "  <tbody>\n",
       "    <tr>\n",
       "      <td>Height</td>\n",
       "      <td>142.0</td>\n",
       "      <td>184.612676</td>\n",
       "      <td>8.698128</td>\n",
       "      <td>165.000000</td>\n",
       "      <td>175.750000</td>\n",
       "      <td>185.000000</td>\n",
       "      <td>191.000000</td>\n",
       "      <td>206.00000</td>\n",
       "    </tr>\n",
       "    <tr>\n",
       "      <td>Weight</td>\n",
       "      <td>142.0</td>\n",
       "      <td>78.978873</td>\n",
       "      <td>10.996110</td>\n",
       "      <td>55.000000</td>\n",
       "      <td>71.500000</td>\n",
       "      <td>79.000000</td>\n",
       "      <td>86.000000</td>\n",
       "      <td>113.00000</td>\n",
       "    </tr>\n",
       "    <tr>\n",
       "      <td>BMI</td>\n",
       "      <td>142.0</td>\n",
       "      <td>23.091214</td>\n",
       "      <td>2.073691</td>\n",
       "      <td>18.390675</td>\n",
       "      <td>21.785876</td>\n",
       "      <td>22.873314</td>\n",
       "      <td>24.180715</td>\n",
       "      <td>31.55588</td>\n",
       "    </tr>\n",
       "    <tr>\n",
       "      <td>Age</td>\n",
       "      <td>142.0</td>\n",
       "      <td>27.112676</td>\n",
       "      <td>3.667180</td>\n",
       "      <td>21.000000</td>\n",
       "      <td>24.000000</td>\n",
       "      <td>27.000000</td>\n",
       "      <td>30.000000</td>\n",
       "      <td>36.00000</td>\n",
       "    </tr>\n",
       "    <tr>\n",
       "      <td>Games Played</td>\n",
       "      <td>142.0</td>\n",
       "      <td>24.429577</td>\n",
       "      <td>7.075477</td>\n",
       "      <td>2.000000</td>\n",
       "      <td>22.000000</td>\n",
       "      <td>27.500000</td>\n",
       "      <td>29.000000</td>\n",
       "      <td>32.00000</td>\n",
       "    </tr>\n",
       "    <tr>\n",
       "      <td>MIN</td>\n",
       "      <td>142.0</td>\n",
       "      <td>500.105634</td>\n",
       "      <td>289.373393</td>\n",
       "      <td>12.000000</td>\n",
       "      <td>242.250000</td>\n",
       "      <td>506.000000</td>\n",
       "      <td>752.500000</td>\n",
       "      <td>1018.00000</td>\n",
       "    </tr>\n",
       "    <tr>\n",
       "      <td>FGM</td>\n",
       "      <td>142.0</td>\n",
       "      <td>74.401408</td>\n",
       "      <td>55.980754</td>\n",
       "      <td>1.000000</td>\n",
       "      <td>27.000000</td>\n",
       "      <td>69.000000</td>\n",
       "      <td>105.000000</td>\n",
       "      <td>227.00000</td>\n",
       "    </tr>\n",
       "    <tr>\n",
       "      <td>FGA</td>\n",
       "      <td>142.0</td>\n",
       "      <td>168.704225</td>\n",
       "      <td>117.165809</td>\n",
       "      <td>3.000000</td>\n",
       "      <td>69.000000</td>\n",
       "      <td>152.500000</td>\n",
       "      <td>244.750000</td>\n",
       "      <td>509.00000</td>\n",
       "    </tr>\n",
       "    <tr>\n",
       "      <td>FG%</td>\n",
       "      <td>142.0</td>\n",
       "      <td>43.102817</td>\n",
       "      <td>9.855199</td>\n",
       "      <td>16.700000</td>\n",
       "      <td>37.125000</td>\n",
       "      <td>42.050000</td>\n",
       "      <td>48.625000</td>\n",
       "      <td>100.00000</td>\n",
       "    </tr>\n",
       "    <tr>\n",
       "      <td>3PM</td>\n",
       "      <td>142.0</td>\n",
       "      <td>14.830986</td>\n",
       "      <td>17.372829</td>\n",
       "      <td>0.000000</td>\n",
       "      <td>0.000000</td>\n",
       "      <td>10.500000</td>\n",
       "      <td>22.000000</td>\n",
       "      <td>88.00000</td>\n",
       "    </tr>\n",
       "    <tr>\n",
       "      <td>3PA</td>\n",
       "      <td>142.0</td>\n",
       "      <td>43.697183</td>\n",
       "      <td>46.155302</td>\n",
       "      <td>0.000000</td>\n",
       "      <td>3.000000</td>\n",
       "      <td>32.000000</td>\n",
       "      <td>65.500000</td>\n",
       "      <td>225.00000</td>\n",
       "    </tr>\n",
       "    <tr>\n",
       "      <td>3P%</td>\n",
       "      <td>142.0</td>\n",
       "      <td>24.978169</td>\n",
       "      <td>18.459075</td>\n",
       "      <td>0.000000</td>\n",
       "      <td>0.000000</td>\n",
       "      <td>30.550000</td>\n",
       "      <td>36.175000</td>\n",
       "      <td>100.00000</td>\n",
       "    </tr>\n",
       "    <tr>\n",
       "      <td>FTM</td>\n",
       "      <td>142.0</td>\n",
       "      <td>39.535211</td>\n",
       "      <td>36.743053</td>\n",
       "      <td>0.000000</td>\n",
       "      <td>13.000000</td>\n",
       "      <td>29.000000</td>\n",
       "      <td>53.250000</td>\n",
       "      <td>168.00000</td>\n",
       "    </tr>\n",
       "    <tr>\n",
       "      <td>FTA</td>\n",
       "      <td>142.0</td>\n",
       "      <td>49.422535</td>\n",
       "      <td>44.244697</td>\n",
       "      <td>0.000000</td>\n",
       "      <td>17.250000</td>\n",
       "      <td>35.500000</td>\n",
       "      <td>66.500000</td>\n",
       "      <td>186.00000</td>\n",
       "    </tr>\n",
       "    <tr>\n",
       "      <td>FT%</td>\n",
       "      <td>142.0</td>\n",
       "      <td>75.828873</td>\n",
       "      <td>18.536151</td>\n",
       "      <td>0.000000</td>\n",
       "      <td>71.575000</td>\n",
       "      <td>80.000000</td>\n",
       "      <td>85.925000</td>\n",
       "      <td>100.00000</td>\n",
       "    </tr>\n",
       "    <tr>\n",
       "      <td>OREB</td>\n",
       "      <td>142.0</td>\n",
       "      <td>22.063380</td>\n",
       "      <td>21.519648</td>\n",
       "      <td>0.000000</td>\n",
       "      <td>7.000000</td>\n",
       "      <td>13.000000</td>\n",
       "      <td>31.000000</td>\n",
       "      <td>113.00000</td>\n",
       "    </tr>\n",
       "    <tr>\n",
       "      <td>DREB</td>\n",
       "      <td>142.0</td>\n",
       "      <td>61.591549</td>\n",
       "      <td>49.669854</td>\n",
       "      <td>2.000000</td>\n",
       "      <td>26.000000</td>\n",
       "      <td>50.000000</td>\n",
       "      <td>84.000000</td>\n",
       "      <td>226.00000</td>\n",
       "    </tr>\n",
       "    <tr>\n",
       "      <td>REB</td>\n",
       "      <td>142.0</td>\n",
       "      <td>83.654930</td>\n",
       "      <td>68.200585</td>\n",
       "      <td>2.000000</td>\n",
       "      <td>34.250000</td>\n",
       "      <td>62.500000</td>\n",
       "      <td>116.500000</td>\n",
       "      <td>334.00000</td>\n",
       "    </tr>\n",
       "    <tr>\n",
       "      <td>AST</td>\n",
       "      <td>142.0</td>\n",
       "      <td>44.514085</td>\n",
       "      <td>41.490790</td>\n",
       "      <td>0.000000</td>\n",
       "      <td>11.250000</td>\n",
       "      <td>34.000000</td>\n",
       "      <td>66.750000</td>\n",
       "      <td>206.00000</td>\n",
       "    </tr>\n",
       "    <tr>\n",
       "      <td>STL</td>\n",
       "      <td>142.0</td>\n",
       "      <td>17.725352</td>\n",
       "      <td>13.413312</td>\n",
       "      <td>0.000000</td>\n",
       "      <td>7.000000</td>\n",
       "      <td>15.000000</td>\n",
       "      <td>27.500000</td>\n",
       "      <td>63.00000</td>\n",
       "    </tr>\n",
       "    <tr>\n",
       "      <td>BLK</td>\n",
       "      <td>142.0</td>\n",
       "      <td>9.781690</td>\n",
       "      <td>12.537669</td>\n",
       "      <td>0.000000</td>\n",
       "      <td>2.000000</td>\n",
       "      <td>5.000000</td>\n",
       "      <td>12.000000</td>\n",
       "      <td>64.00000</td>\n",
       "    </tr>\n",
       "    <tr>\n",
       "      <td>TO</td>\n",
       "      <td>142.0</td>\n",
       "      <td>32.288732</td>\n",
       "      <td>21.447141</td>\n",
       "      <td>2.000000</td>\n",
       "      <td>14.000000</td>\n",
       "      <td>28.000000</td>\n",
       "      <td>48.000000</td>\n",
       "      <td>87.00000</td>\n",
       "    </tr>\n",
       "    <tr>\n",
       "      <td>PTS</td>\n",
       "      <td>142.0</td>\n",
       "      <td>203.169014</td>\n",
       "      <td>153.032559</td>\n",
       "      <td>2.000000</td>\n",
       "      <td>77.250000</td>\n",
       "      <td>181.000000</td>\n",
       "      <td>277.750000</td>\n",
       "      <td>584.00000</td>\n",
       "    </tr>\n",
       "    <tr>\n",
       "      <td>DD2</td>\n",
       "      <td>142.0</td>\n",
       "      <td>1.140845</td>\n",
       "      <td>2.909002</td>\n",
       "      <td>0.000000</td>\n",
       "      <td>0.000000</td>\n",
       "      <td>0.000000</td>\n",
       "      <td>1.000000</td>\n",
       "      <td>17.00000</td>\n",
       "    </tr>\n",
       "    <tr>\n",
       "      <td>TD3</td>\n",
       "      <td>142.0</td>\n",
       "      <td>0.007042</td>\n",
       "      <td>0.083918</td>\n",
       "      <td>0.000000</td>\n",
       "      <td>0.000000</td>\n",
       "      <td>0.000000</td>\n",
       "      <td>0.000000</td>\n",
       "      <td>1.00000</td>\n",
       "    </tr>\n",
       "  </tbody>\n",
       "</table>\n",
       "</div>"
      ],
      "text/plain": [
       "              count        mean         std         min         25%  \\\n",
       "Height        142.0  184.612676    8.698128  165.000000  175.750000   \n",
       "Weight        142.0   78.978873   10.996110   55.000000   71.500000   \n",
       "BMI           142.0   23.091214    2.073691   18.390675   21.785876   \n",
       "Age           142.0   27.112676    3.667180   21.000000   24.000000   \n",
       "Games Played  142.0   24.429577    7.075477    2.000000   22.000000   \n",
       "MIN           142.0  500.105634  289.373393   12.000000  242.250000   \n",
       "FGM           142.0   74.401408   55.980754    1.000000   27.000000   \n",
       "FGA           142.0  168.704225  117.165809    3.000000   69.000000   \n",
       "FG%           142.0   43.102817    9.855199   16.700000   37.125000   \n",
       "3PM           142.0   14.830986   17.372829    0.000000    0.000000   \n",
       "3PA           142.0   43.697183   46.155302    0.000000    3.000000   \n",
       "3P%           142.0   24.978169   18.459075    0.000000    0.000000   \n",
       "FTM           142.0   39.535211   36.743053    0.000000   13.000000   \n",
       "FTA           142.0   49.422535   44.244697    0.000000   17.250000   \n",
       "FT%           142.0   75.828873   18.536151    0.000000   71.575000   \n",
       "OREB          142.0   22.063380   21.519648    0.000000    7.000000   \n",
       "DREB          142.0   61.591549   49.669854    2.000000   26.000000   \n",
       "REB           142.0   83.654930   68.200585    2.000000   34.250000   \n",
       "AST           142.0   44.514085   41.490790    0.000000   11.250000   \n",
       "STL           142.0   17.725352   13.413312    0.000000    7.000000   \n",
       "BLK           142.0    9.781690   12.537669    0.000000    2.000000   \n",
       "TO            142.0   32.288732   21.447141    2.000000   14.000000   \n",
       "PTS           142.0  203.169014  153.032559    2.000000   77.250000   \n",
       "DD2           142.0    1.140845    2.909002    0.000000    0.000000   \n",
       "TD3           142.0    0.007042    0.083918    0.000000    0.000000   \n",
       "\n",
       "                     50%         75%         max  \n",
       "Height        185.000000  191.000000   206.00000  \n",
       "Weight         79.000000   86.000000   113.00000  \n",
       "BMI            22.873314   24.180715    31.55588  \n",
       "Age            27.000000   30.000000    36.00000  \n",
       "Games Played   27.500000   29.000000    32.00000  \n",
       "MIN           506.000000  752.500000  1018.00000  \n",
       "FGM            69.000000  105.000000   227.00000  \n",
       "FGA           152.500000  244.750000   509.00000  \n",
       "FG%            42.050000   48.625000   100.00000  \n",
       "3PM            10.500000   22.000000    88.00000  \n",
       "3PA            32.000000   65.500000   225.00000  \n",
       "3P%            30.550000   36.175000   100.00000  \n",
       "FTM            29.000000   53.250000   168.00000  \n",
       "FTA            35.500000   66.500000   186.00000  \n",
       "FT%            80.000000   85.925000   100.00000  \n",
       "OREB           13.000000   31.000000   113.00000  \n",
       "DREB           50.000000   84.000000   226.00000  \n",
       "REB            62.500000  116.500000   334.00000  \n",
       "AST            34.000000   66.750000   206.00000  \n",
       "STL            15.000000   27.500000    63.00000  \n",
       "BLK             5.000000   12.000000    64.00000  \n",
       "TO             28.000000   48.000000    87.00000  \n",
       "PTS           181.000000  277.750000   584.00000  \n",
       "DD2             0.000000    1.000000    17.00000  \n",
       "TD3             0.000000    0.000000     1.00000  "
      ]
     },
     "execution_count": 5,
     "metadata": {},
     "output_type": "execute_result"
    }
   ],
   "source": [
    "#your code here\n",
    "wnba.describe().T"
   ]
  },
  {
   "cell_type": "markdown",
   "metadata": {},
   "source": [
    "Most of the game-related stats have a very high range of values which can be explained by the fact that the dataset contains data on both players that play the majority of games and also players that may spend almost the entirety of the season on the bench.\n",
    "\n",
    "There are also some extremes in the weight and age columns. Feel free, if you'd like, to check which are the players with a very high (or low) age/weight and do some research on them. This is useful to confirm that they are simply outliers and not errors in the data."
   ]
  },
  {
   "cell_type": "code",
   "execution_count": 5,
   "metadata": {},
   "outputs": [],
   "source": [
    "#your code here"
   ]
  },
  {
   "cell_type": "markdown",
   "metadata": {},
   "source": [
    "### Looking at the distributions of the data\n",
    "Let's take a look at the distribution of the 4 stats that describe the physical characteristics of the players.\n",
    "\n",
    "**Plot the four distributions about `height`, `weight`, `age` and `BMI`.**"
   ]
  },
  {
   "cell_type": "code",
   "execution_count": 76,
   "metadata": {},
   "outputs": [
    {
     "data": {
      "text/plain": [
       "array([<matplotlib.axes._subplots.AxesSubplot object at 0x000001B09E6C9C48>],\n",
       "      dtype=object)"
      ]
     },
     "execution_count": 76,
     "metadata": {},
     "output_type": "execute_result"
    },
    {
     "data": {
      "image/png": "[encoded data removed]",
      "text/plain": [
       "<Figure size 2160x432 with 4 Axes>"
      ]
     },
     "metadata": {
      "needs_background": "light"
     },
     "output_type": "display_data"
    }
   ],
   "source": [
    "#your code here\n",
    "fig, axes = plt.subplots(1, 4, figsize =(30,6))\n",
    "wnba.hist('Height', bins=50, ax=axes[0])\n",
    "wnba.hist('Weight', bins=100, ax=axes[1])\n",
    "wnba.hist('Age', bins=16, ax=axes[2])\n",
    "wnba.hist('BMI', bins=50, ax=axes[3])"
   ]
  },
  {
   "cell_type": "markdown",
   "metadata": {},
   "source": [
    "**What conclusions do you think we can take from this plots?**"
   ]
  },
  {
   "cell_type": "code",
   "execution_count": 6,
   "metadata": {},
   "outputs": [],
   "source": [
    "#your conclusions here\n",
    "# Here we can see that these 4 variables follow pretty well a normal distribution, with a few outliers that are in the highest values\n",
    "# We can have a doubt about the age distribution, since its not a \"natural\" caracteristic, and because in sports, there are more young players than old players"
   ]
  },
  {
   "cell_type": "markdown",
   "metadata": {},
   "source": [
    "In addition to what the describe() method already told us we can see that the physical characteristics of the players (apart from the age) more or less follow a standard distribution, which is expected when looking at the distribution of values that arise from a lot of factors that are independent from each other as is the case for many physical quantities. \n",
    "\n",
    "The height distribution looks like a bimodal. This may be due to the fact that players in basketball fall under two main categories (please note that this is a very gross generalization): shorter and more agile, and taller and less agile. Therefore there are less \"average\" height players since they will neither be as agile as the shorter players nor have the same impact in the paint (that is, under the basket) as a taller player.\n",
    "\n",
    "The age distribution is a bit skewed to the right which is expected since most professional players stop playing after their prime physical years come to an end."
   ]
  },
  {
   "cell_type": "markdown",
   "metadata": {},
   "source": [
    "We could do the same for the main game stats. They are points, assists, blocks, rebounds and steals. \n",
    "\n",
    "**Now plot the distribution of the columns `REB`, `AST`, `STL`, `PTS` and `BLK` the same way you did in the last cell.**"
   ]
  },
  {
   "cell_type": "code",
   "execution_count": 53,
   "metadata": {},
   "outputs": [
    {
     "data": {
      "text/plain": [
       "array([<matplotlib.axes._subplots.AxesSubplot object at 0x000001B097E2D048>],\n",
       "      dtype=object)"
      ]
     },
     "execution_count": 53,
     "metadata": {},
     "output_type": "execute_result"
    },
    {
     "data": {
      "image/png": "[encoded data removed]",
      "text/plain": [
       "<Figure size 1440x720 with 6 Axes>"
      ]
     },
     "metadata": {
      "needs_background": "light"
     },
     "output_type": "display_data"
    }
   ],
   "source": [
    "#your code here\n",
    "fig, axes = plt.subplots(2, 3, figsize =(20,10))\n",
    "\n",
    "wnba.hist('REB', bins=20, ax=axes[0][0])\n",
    "wnba.hist('AST', bins=20, ax=axes[0][1])\n",
    "wnba.hist('STL', bins=20, ax=axes[0][2])\n",
    "wnba.hist('PTS', bins=20, ax=axes[1][0])\n",
    "wnba.hist('BLK', bins=20, ax=axes[1][1])"
   ]
  },
  {
   "cell_type": "markdown",
   "metadata": {},
   "source": [
    "**What conclusions do you think we can take from this plots?**"
   ]
  },
  {
   "cell_type": "code",
   "execution_count": null,
   "metadata": {},
   "outputs": [],
   "source": [
    "#your conclusions here\n",
    "# Here, the distrbution is not normal, and the values are mostly distributed on the left part of the "
   ]
  },
  {
   "cell_type": "markdown",
   "metadata": {},
   "source": [
    "As expected all of the above distribution are heavily skewed to the right, since most players will have very low to average stats while there will be a handful of star players whose stats peak above everyone else. It is also important to think about the fact that we are simply taking the stats as they are without considering the minutes played by each player. Even though skill plays a very important factor in determining this kind of stats we also have to consider that players that play more minutes will, on average, score more points (or blocks, assists, etc.)."
   ]
  },
  {
   "cell_type": "markdown",
   "metadata": {},
   "source": [
    "**For the sake of it let's look at the same distributions by dividing those stats by the minutes played for each player in the dataset.** "
   ]
  },
  {
   "cell_type": "code",
   "execution_count": 86,
   "metadata": {},
   "outputs": [],
   "source": [
    "#your code here\n",
    "stats_div = wnba[[\"REB\",\"AST\",\"STL\",\"PTS\",\"BLK\",\"MIN\"]]"
   ]
  },
  {
   "cell_type": "code",
   "execution_count": 87,
   "metadata": {},
   "outputs": [
    {
     "name": "stderr",
     "output_type": "stream",
     "text": [
      "C:\\Users\\jeanb\\Anaconda3\\lib\\site-packages\\ipykernel_launcher.py:1: SettingWithCopyWarning: \n",
      "A value is trying to be set on a copy of a slice from a DataFrame.\n",
      "Try using .loc[row_indexer,col_indexer] = value instead\n",
      "\n",
      "See the caveats in the documentation: http://pandas.pydata.org/pandas-docs/stable/user_guide/indexing.html#returning-a-view-versus-a-copy\n",
      "  \"\"\"Entry point for launching an IPython kernel.\n",
      "C:\\Users\\jeanb\\Anaconda3\\lib\\site-packages\\ipykernel_launcher.py:2: SettingWithCopyWarning: \n",
      "A value is trying to be set on a copy of a slice from a DataFrame.\n",
      "Try using .loc[row_indexer,col_indexer] = value instead\n",
      "\n",
      "See the caveats in the documentation: http://pandas.pydata.org/pandas-docs/stable/user_guide/indexing.html#returning-a-view-versus-a-copy\n",
      "  \n",
      "C:\\Users\\jeanb\\Anaconda3\\lib\\site-packages\\ipykernel_launcher.py:3: SettingWithCopyWarning: \n",
      "A value is trying to be set on a copy of a slice from a DataFrame.\n",
      "Try using .loc[row_indexer,col_indexer] = value instead\n",
      "\n",
      "See the caveats in the documentation: http://pandas.pydata.org/pandas-docs/stable/user_guide/indexing.html#returning-a-view-versus-a-copy\n",
      "  This is separate from the ipykernel package so we can avoid doing imports until\n",
      "C:\\Users\\jeanb\\Anaconda3\\lib\\site-packages\\ipykernel_launcher.py:4: SettingWithCopyWarning: \n",
      "A value is trying to be set on a copy of a slice from a DataFrame.\n",
      "Try using .loc[row_indexer,col_indexer] = value instead\n",
      "\n",
      "See the caveats in the documentation: http://pandas.pydata.org/pandas-docs/stable/user_guide/indexing.html#returning-a-view-versus-a-copy\n",
      "  after removing the cwd from sys.path.\n",
      "C:\\Users\\jeanb\\Anaconda3\\lib\\site-packages\\ipykernel_launcher.py:5: SettingWithCopyWarning: \n",
      "A value is trying to be set on a copy of a slice from a DataFrame.\n",
      "Try using .loc[row_indexer,col_indexer] = value instead\n",
      "\n",
      "See the caveats in the documentation: http://pandas.pydata.org/pandas-docs/stable/user_guide/indexing.html#returning-a-view-versus-a-copy\n",
      "  \"\"\"\n"
     ]
    }
   ],
   "source": [
    "stats_div[\"REB\"]=stats_div.apply(lambda row:(row[\"REB\"]/row[\"MIN\"]),axis=1)\n",
    "stats_div[\"AST\"]=stats_div.apply(lambda row:(row[\"AST\"]/row[\"MIN\"]),axis=1)\n",
    "stats_div[\"STL\"]=stats_div.apply(lambda row:(row[\"STL\"]/row[\"MIN\"]),axis=1)\n",
    "stats_div[\"PTS\"]=stats_div.apply(lambda row:(row[\"PTS\"]/row[\"MIN\"]),axis=1)\n",
    "stats_div[\"BLK\"]=stats_div.apply(lambda row:(row[\"BLK\"]/row[\"MIN\"]),axis=1)"
   ]
  },
  {
   "cell_type": "code",
   "execution_count": 89,
   "metadata": {},
   "outputs": [
    {
     "data": {
      "text/plain": [
       "array([<matplotlib.axes._subplots.AxesSubplot object at 0x000001B09EDD2348>],\n",
       "      dtype=object)"
      ]
     },
     "execution_count": 89,
     "metadata": {},
     "output_type": "execute_result"
    },
    {
     "data": {
      "image/png": "[encoded data removed]",
      "text/plain": [
       "<Figure size 1440x720 with 6 Axes>"
      ]
     },
     "metadata": {
      "needs_background": "light"
     },
     "output_type": "display_data"
    }
   ],
   "source": [
    "#your code here\n",
    "fig, axes = plt.subplots(2, 3, figsize =(20,10))\n",
    "\n",
    "stats_div.hist('REB', bins=20, ax=axes[0][0])\n",
    "stats_div.hist('AST', bins=20, ax=axes[0][1])\n",
    "stats_div.hist('STL', bins=20, ax=axes[0][2])\n",
    "stats_div.hist('PTS', bins=20, ax=axes[1][0])\n",
    "stats_div.hist('BLK', bins=20, ax=axes[1][1])"
   ]
  },
  {
   "cell_type": "markdown",
   "metadata": {},
   "source": [
    "**What conclusions do you think we can take from this plots?**"
   ]
  },
  {
   "cell_type": "code",
   "execution_count": null,
   "metadata": {},
   "outputs": [],
   "source": [
    "#your conclusions here\n",
    "# When dividing by the number of minutes played by each player, we indeed obtain a more normal distribution for these stats, except the block one"
   ]
  },
  {
   "cell_type": "markdown",
   "metadata": {},
   "source": [
    "### Summary\n",
    "\n",
    "The main insights we obtained from this exploratory analysis are:\n",
    "- Game-related stats have a very high range of values.\n",
    "- There are some extremes in the weight and age columns.\n",
    "- The physical characteristics of the players more or less follow a standard distribution.\n",
    "- We need to take into account that our dataset contains data on both players that play the majority of games and also players that may spend almost the entirety of the season on the bench.\n",
    "\n",
    "Now, it's time to try to put an end to your family's discussions. As seen on the README, the main discussions are:\n",
    "- Your grandmother says that your sister couldn't play in a professional basketball league (not only the WNBA, but ANY professional basketball league) because she's too skinny and lacks muscle.\n",
    "- Your sister says that most female professional players fail their free throws.\n",
    "- Your brother-in-law heard on the TV that the average assists among NBA (male) and WNBA (female) players is 52 for the 2016-2017 season. He is convinced this average would be higher if we only considered the players from the WNBA.\n",
    "\n",
    "**Do you think you have all the necessary data to answer these questions?**"
   ]
  },
  {
   "cell_type": "code",
   "execution_count": null,
   "metadata": {},
   "outputs": [],
   "source": [
    "#your comments here\n",
    "# For the first question, it would be interesting to get some stats and data about the sister\n",
    "# For the second question, it seems that we have enough informations to answer it, with the free throws attempts, made, and percentage\n",
    "# For the third question, it also seems that we have the adequate informations to answer it too"
   ]
  }
 ],
 "metadata": {
  "kernelspec": {
   "display_name": "Python 3",
   "language": "python",
   "name": "python3"
  },
  "language_info": {
   "codemirror_mode": {
    "name": "ipython",
    "version": 3
   },
   "file_extension": ".py",
   "mimetype": "text/x-python",
   "name": "python",
   "nbconvert_exporter": "python",
   "pygments_lexer": "ipython3",
   "version": "3.7.4"
  }
 },
 "nbformat": 4,
 "nbformat_minor": 4
}
