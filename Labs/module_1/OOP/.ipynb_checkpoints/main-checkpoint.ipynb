{
 "cells": [
  {
   "cell_type": "code",
   "execution_count": null,
   "metadata": {},
   "outputs": [],
   "source": [
    "# kata 1\n",
    "class List:\n",
    "    def remove_(self, integer_list, values_list):\n",
    "        #your code here\n",
    "        return [i for i in integer_list if i not in values_list]"
   ]
  },
  {
   "cell_type": "code",
   "execution_count": 26,
   "metadata": {},
   "outputs": [],
   "source": [
    "# kata 2\n",
    "class List(object):\n",
    "    def count_spec_digits(self,integers_list, digits_list):\n",
    "        l=[]\n",
    "        for i in digits_list:\n",
    "            k=0\n",
    "            for j in integers_list:\n",
    "                if len(str(abs(j)))> 1:\n",
    "                    s = [int(d) for d in str(abs(j))]\n",
    "                    k+=s.count(i)\n",
    "                else:\n",
    "                    if i==j:\n",
    "                        k+=1\n",
    "            l.append((i,k))\n",
    "        \n",
    "        return l"
   ]
  },
  {
   "cell_type": "code",
   "execution_count": 123,
   "metadata": {},
   "outputs": [],
   "source": [
    "# kata 3\n",
    "class List():    \n",
    "    def ordered_count(self,inp):\n",
    "        return [(i,[c for c in inp].count(i)) for i in list(dict.fromkeys([c for c in inp]))]"
   ]
  }
 ],
 "metadata": {
  "kernelspec": {
   "display_name": "Python 3",
   "language": "python",
   "name": "python3"
  },
  "language_info": {
   "codemirror_mode": {
    "name": "ipython",
    "version": 3
   },
   "file_extension": ".py",
   "mimetype": "text/x-python",
   "name": "python",
   "nbconvert_exporter": "python",
   "pygments_lexer": "ipython3",
   "version": "3.7.4"
  }
 },
 "nbformat": 4,
 "nbformat_minor": 4
}
